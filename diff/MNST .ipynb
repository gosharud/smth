{
  "nbformat": 4,
  "nbformat_minor": 0,
  "metadata": {
    "colab": {
      "provenance": []
    },
    "kernelspec": {
      "name": "python3",
      "display_name": "Python 3"
    },
    "language_info": {
      "name": "python"
    }
  },
  "cells": [
    {
      "cell_type": "code",
      "execution_count": null,
      "metadata": {
        "id": "8zB2nM_3TBa0"
      },
      "outputs": [],
      "source": [
        "import matplotlib.pyplot as plt\n",
        "import numpy as np\n",
        "import pandas as pd\n",
        "from sklearn import datasets\n",
        "from tqdm import tqdm\n",
        "from sklearn.model_selection import train_test_split"
      ]
    },
    {
      "cell_type": "code",
      "source": [
        "digits = datasets.load_digits()\n",
        "\n",
        "_, axes = plt.subplots(nrows=1, ncols=4, figsize=(4.5, 6))\n",
        "for ax, image, label in zip(axes, digits.images, digits.target):\n",
        "    ax.set_axis_off()\n",
        "    ax.imshow(image, cmap=plt.cm.gray_r, interpolation=\"nearest\")\n",
        "    ax.set_title(\"Training: %i\" % label)"
      ],
      "metadata": {
        "colab": {
          "base_uri": "https://localhost:8080/",
          "height": 135
        },
        "id": "q_nMjD277IWO",
        "outputId": "80430e37-21ca-4819-b17d-29511e8d5d24"
      },
      "execution_count": null,
      "outputs": [
        {
          "output_type": "display_data",
          "data": {
            "text/plain": [
              "<Figure size 450x600 with 4 Axes>"
            ],
            "image/png": "[encoded data removed]"
          },
          "metadata": {}
        }
      ]
    },
    {
      "cell_type": "code",
      "source": [
        "data = pd.DataFrame(data=digits.data, columns=digits.feature_names)\n",
        "target = pd.DataFrame(data=digits.target, columns=[\"target\"])"
      ],
      "metadata": {
        "id": "22buE7vi7Iw9"
      },
      "execution_count": null,
      "outputs": []
    },
    {
      "cell_type": "code",
      "source": [
        "def Sigmoid(x):\n",
        "  return 1 / (1 + np.exp(-x))\n",
        "\n",
        "def Sigmoid_d(func):\n",
        "  return func * (1 - func)"
      ],
      "metadata": {
        "id": "xdsp14li8hen"
      },
      "execution_count": null,
      "outputs": []
    },
    {
      "cell_type": "code",
      "source": [
        "def W(input, hidden, output):\n",
        "  np.random.seed(42)\n",
        "  limit1 = np.sqrt(6 / (input + hidden))\n",
        "  w1 = np.random.uniform(-limit1, limit1, (hidden, input))\n",
        "\n",
        "  limit2 = np.sqrt(6 / (hidden + hidden))\n",
        "  w2 = np.random.uniform(-limit2, limit2, (hidden, hidden))\n",
        "\n",
        "  limit3 = np.sqrt(6 / (hidden + output))\n",
        "  w3 = np.random.uniform(-limit3, limit3, (output, hidden))\n",
        "\n",
        "  print(\"shape w1: \", w1.shape, \"\\n\", \"shape w2: \", w2.shape, \"\\n\", \"shape w3: \", w3.shape)\n",
        "  return w1, w2, w3"
      ],
      "metadata": {
        "id": "MMtj3Nac_P5n"
      },
      "execution_count": null,
      "outputs": []
    },
    {
      "cell_type": "code",
      "source": [
        "def forward(X, w1, w2, w3):\n",
        "  l1 = w1 @ X\n",
        "  z1 = Sigmoid(l1)\n",
        "  l2 = w2 @ z1\n",
        "  z2 = Sigmoid(l2)\n",
        "  l3 = w3 @ z2\n",
        "  out = Sigmoid(l3)\n",
        "\n",
        "  dat = (z1, z2, out)\n",
        "  return dat"
      ],
      "metadata": {
        "id": "DvhRBg1OFO9r"
      },
      "execution_count": null,
      "outputs": []
    },
    {
      "cell_type": "code",
      "source": [
        "def predict(X, w1, w2, w3, threshold=0.5):\n",
        "  l1 = w1 @ X\n",
        "  z1 = Sigmoid(l1)\n",
        "  l2 = w2 @ z1\n",
        "  z2 = Sigmoid(l2)\n",
        "  l3 = w3 @ z2\n",
        "  out = Sigmoid(l3)\n",
        "  return (out > threshold).astype(int)"
      ],
      "metadata": {
        "id": "cBnP1hdyHLpO"
      },
      "execution_count": null,
      "outputs": []
    },
    {
      "cell_type": "code",
      "source": [
        "def predict_dataset(X, w1, w2, w3, threshold=0.5):\n",
        "  p = []\n",
        "  x = X.values.tolist()\n",
        "  for i in range(X.shape[0]):\n",
        "      pred = predict(np.array(x[i]), w1, w2, w3, threshold)\n",
        "      pred=np.where(pred==1)[0].tolist()\n",
        "      if pred == []:\n",
        "          pred= 0\n",
        "      else:\n",
        "          pred = pred[0]\n",
        "\n",
        "      p.append(pred)\n",
        "  return p"
      ],
      "metadata": {
        "id": "vq8v-DsaHQYs"
      },
      "execution_count": null,
      "outputs": []
    },
    {
      "cell_type": "code",
      "source": [
        "def one_hot(label, num_classes=10):\n",
        "  vec = np.zeros(num_classes)\n",
        "  vec[label] = 1\n",
        "  return vec"
      ],
      "metadata": {
        "id": "dJ2Qb3XPIvgx"
      },
      "execution_count": null,
      "outputs": []
    },
    {
      "cell_type": "code",
      "source": [
        "def back(data, w1, w2, w3, dat, target, lr):\n",
        "  z1, z2, out = dat\n",
        "  z1 = np.expand_dims(z1, axis=1)\n",
        "\n",
        "  target_one_hot = one_hot(target, out.shape[0])\n",
        "  delta3 = (out - target_one_hot) * Sigmoid_d(out)\n",
        "  delta3 = np.expand_dims(delta3, axis=1)\n",
        "  data = np.expand_dims(data, axis=1)\n",
        "  z2 = np.expand_dims(z2, axis=1)\n",
        "  w3 -= lr * (delta3 @ z2.T)\n",
        "\n",
        "  delta2 = (w3.T @ delta3) * Sigmoid_d(z2)\n",
        "  w2 -= lr * (delta2 @ z1.T)\n",
        "\n",
        "  delta1 = (w2.T @ delta2) * Sigmoid_d(z1)\n",
        "  w1 -= lr * (delta1 @ data.T)\n",
        "\n",
        "  return w1, w2, w3"
      ],
      "metadata": {
        "id": "s5aslkuQF5Vf"
      },
      "execution_count": null,
      "outputs": []
    },
    {
      "cell_type": "code",
      "source": [
        "def marks(y_true, y_pred, val=\"accuracy\"):\n",
        "  from sklearn.metrics import accuracy_score\n",
        "  return accuracy_score(y_pred, y_true)"
      ],
      "metadata": {
        "id": "3_KXMaFYK0KH"
      },
      "execution_count": null,
      "outputs": []
    },
    {
      "cell_type": "code",
      "source": [
        "def train(x_train,y_train,lr,epoh):\n",
        "  w1, w2, w3 = W(x_train.shape[1],128,10)\n",
        "\n",
        "  for i in tqdm(range(epoh)):\n",
        "      for _ in range(x_train.shape[0]):\n",
        "          indx = np.random.randint(0, x_train.shape[0])\n",
        "\n",
        "          dat = forward(x_train.values[indx], w1, w2, w3)\n",
        "\n",
        "          pred = predict(x_train.values[indx], w1, w2, w3)\n",
        "\n",
        "          w1, w2, w3 = back(x_train.values[indx], w1, w2, w3, dat, y_train.values[indx], 0.01)\n",
        "\n",
        "  return w1, w2, w3"
      ],
      "metadata": {
        "id": "HdASOlBfLR0-"
      },
      "execution_count": null,
      "outputs": []
    },
    {
      "cell_type": "code",
      "source": [
        "x_train, x_test, y_train ,y_test = train_test_split(data, target, test_size=.2, random_state = 42)"
      ],
      "metadata": {
        "id": "OyEgb-LAMl9P"
      },
      "execution_count": null,
      "outputs": []
    },
    {
      "cell_type": "code",
      "source": [
        "w1, w2, w3 = train(x_train, y_train, 0.01, 30)"
      ],
      "metadata": {
        "colab": {
          "base_uri": "https://localhost:8080/"
        },
        "id": "OPBOu8SzMvT9",
        "outputId": "290d608b-88f0-4694-cb56-cc2d3058ef74"
      },
      "execution_count": null,
      "outputs": [
        {
          "output_type": "stream",
          "name": "stdout",
          "text": [
            "shape w1:  (128, 64) \n",
            " shape w2:  (128, 128) \n",
            " shape w3:  (10, 128)\n"
          ]
        },
        {
          "output_type": "stream",
          "name": "stderr",
          "text": [
            "100%|██████████| 30/30 [00:21<00:00,  1.40it/s]\n"
          ]
        }
      ]
    },
    {
      "cell_type": "code",
      "source": [
        "y_pred = predict_dataset(x_test, w1, w2, w3)"
      ],
      "metadata": {
        "id": "NqixOGwTM3x2"
      },
      "execution_count": null,
      "outputs": []
    },
    {
      "cell_type": "code",
      "source": [
        "marks(y_test,y_pred)"
      ],
      "metadata": {
        "colab": {
          "base_uri": "https://localhost:8080/"
        },
        "id": "tLCS_lyXN6QP",
        "outputId": "1bb1c50e-2ef9-4cd1-a46c-1d636441c418"
      },
      "execution_count": null,
      "outputs": [
        {
          "output_type": "execute_result",
          "data": {
            "text/plain": [
              "0.9583333333333334"
            ]
          },
          "metadata": {},
          "execution_count": 66
        }
      ]
    },
    {
      "cell_type": "code",
      "source": [],
      "metadata": {
        "id": "De7cGozUOUR-"
      },
      "execution_count": null,
      "outputs": []
    }
  ]
}